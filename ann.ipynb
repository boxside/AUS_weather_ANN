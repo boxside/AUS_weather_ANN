{
 "cells": [
  {
   "cell_type": "code",
   "execution_count": 1,
   "id": "saved-greek",
   "metadata": {},
   "outputs": [],
   "source": [
    "import jupyterthemes\n",
    "import torch\n",
    "import os\n",
    "import numpy as np\n",
    "import pandas as pd\n",
    "from tqdm import tqdm\n",
    "import seaborn as sns\n",
    "import matplotlib.pyplot as plt\n",
    "from matplotlib import rc\n",
    "from sklearn.model_selection import train_test_split\n",
    "from sklearn.metrics import confusion_matrix, classification_report\n",
    "from torch import nn, optim\n",
    "import torch.nn.functional as F\n",
    "desired_width=320\n",
    "pd.set_option('display.width', desired_width)\n",
    "pd.set_option('display.max_columns',10)\n",
    "\n",
    "plt.rcParams['figure.figsize'] = 12, 8\n",
    "RANDOM_SEED = 42\n",
    "np.random.seed(RANDOM_SEED)\n",
    "torch.manual_seed(RANDOM_SEED)\n",
    "\n",
    "%matplotlib inline\n",
    "%config InlineBackend.figure_format='retina'\n",
    "\n",
    "sns.set(style='whitegrid', palette='muted', font_scale=1.2)\n",
    "\n",
    "HAPPY_COLORS_PALETTE = [\"#01BEFE\", \"#FFDD00\", \"#FF7D00\", \"#FF006D\", \"#93D30C\", \"#8F00FF\"]\n",
    "\n",
    "sns.set_palette(sns.color_palette(HAPPY_COLORS_PALETTE))\n"
   ]
  },
  {
   "cell_type": "code",
   "execution_count": 2,
   "id": "pregnant-instruction",
   "metadata": {},
   "outputs": [],
   "source": [
    "# Heavily based on https://github.com/Prodicode/ann-visualizer\n",
    "def ann_viz(model, view=True, filename=\"network.gv\"):\n",
    "    \"\"\"Vizualizez a Sequential model.\n",
    "\n",
    "    # Arguments\n",
    "        model: A Keras model instance.\n",
    "\n",
    "        view: whether to display the model after generation.\n",
    "\n",
    "        filename: where to save the vizualization. (a .gv file)\n",
    "\n",
    "        title: A title for the graph\n",
    "    \"\"\"\n",
    "    from graphviz import Digraph\n",
    "\n",
    "    input_layer = 0\n",
    "    hidden_layers_nr = 0\n",
    "    layer_types = []\n",
    "    hidden_layers = []\n",
    "    output_layer = 0\n",
    "    layers = [layer for layer in model.modules() if type(layer) == torch.nn.Linear]\n",
    "\n",
    "    for layer in layers:\n",
    "        if layer == layers[0]:\n",
    "            input_layer = layer.in_features\n",
    "            hidden_layers_nr += 1\n",
    "            if type(layer) == torch.nn.Linear:                \n",
    "                hidden_layers.append(layer.out_features)\n",
    "                layer_types.append(\"Dense\")\n",
    "            else:\n",
    "                raise Exception(\"Input error\")\n",
    "\n",
    "        else:\n",
    "            if layer == layers[-1]:\n",
    "                output_layer = layer.out_features\n",
    "            else:\n",
    "                hidden_layers_nr += 1\n",
    "                if type(layer) == torch.nn.Linear:\n",
    "\n",
    "                    hidden_layers.append(layer.out_features)\n",
    "                    layer_types.append(\"Dense\")\n",
    "                else:\n",
    "                    raise Exception(\"Hidden error\")\n",
    "        last_layer_nodes = input_layer\n",
    "        nodes_up = input_layer\n",
    "\n",
    "    g = Digraph(\"g\", filename=filename)\n",
    "    n = 0\n",
    "    g.graph_attr.update(splines=\"false\", nodesep=\"0.5\", ranksep=\"0\", rankdir='LR')\n",
    "    # Input Layer\n",
    "    with g.subgraph(name=\"cluster_input\") as c:\n",
    "        if type(layers[0]) == torch.nn.Linear:\n",
    "            the_label = \"Input Layer\"\n",
    "            if layers[0].in_features > 10:\n",
    "                the_label += \" (+\" + str(layers[0].in_features - 10) + \")\"\n",
    "                input_layer = 10\n",
    "            c.attr(color=\"white\")\n",
    "            for i in range(0, input_layer):\n",
    "                n += 1\n",
    "                c.node(str(n))\n",
    "                c.attr(labeljust=\"1\")\n",
    "                c.attr(label=the_label, labelloc=\"bottom\")\n",
    "                c.attr(rank=\"same\")                \n",
    "                c.node_attr.update(\n",
    "                    width=\"0.65\",\n",
    "                    style=\"filled\",                    \n",
    "                    shape=\"circle\",\n",
    "                    color=HAPPY_COLORS_PALETTE[3],\n",
    "                    fontcolor=HAPPY_COLORS_PALETTE[3],\n",
    "                )\n",
    "    for i in range(0, hidden_layers_nr):\n",
    "        with g.subgraph(name=\"cluster_\" + str(i + 1)) as c:\n",
    "            if layer_types[i] == \"Dense\":\n",
    "                c.attr(color=\"white\")\n",
    "                c.attr(rank=\"same\")\n",
    "                the_label = f'Hidden Layer {i + 1}'\n",
    "                if layers[i].out_features > 10:\n",
    "                    the_label += \" (+\" + str(layers[i].out_features - 10) + \")\"\n",
    "                    hidden_layers[i] = 10\n",
    "                c.attr(labeljust=\"right\", labelloc=\"b\", label=the_label)\n",
    "                for j in range(0, hidden_layers[i]):\n",
    "                    n += 1\n",
    "                    c.node(\n",
    "                        str(n),\n",
    "                        width=\"0.65\",\n",
    "                        shape=\"circle\",\n",
    "                        style=\"filled\",\n",
    "                        color=HAPPY_COLORS_PALETTE[0],\n",
    "                        fontcolor=HAPPY_COLORS_PALETTE[0],\n",
    "                    )\n",
    "                    for h in range(nodes_up - last_layer_nodes + 1, nodes_up + 1):\n",
    "                        g.edge(str(h), str(n))\n",
    "                last_layer_nodes = hidden_layers[i]\n",
    "                nodes_up += hidden_layers[i]\n",
    "            else:\n",
    "                raise Exception(\"Hidden layer type not supported\")\n",
    "\n",
    "    with g.subgraph(name=\"cluster_output\") as c:\n",
    "        if type(layers[-1]) == torch.nn.Linear:\n",
    "            c.attr(color=\"white\")\n",
    "            c.attr(rank=\"same\")\n",
    "            c.attr(labeljust=\"1\")\n",
    "            for i in range(1, output_layer + 1):\n",
    "                n += 1\n",
    "                c.node(\n",
    "                    str(n),\n",
    "                    width=\"0.65\",\n",
    "                    shape=\"circle\",\n",
    "                    style=\"filled\",\n",
    "                    color=HAPPY_COLORS_PALETTE[4],\n",
    "                    fontcolor=HAPPY_COLORS_PALETTE[4],\n",
    "                    \n",
    "                )\n",
    "                for h in range(nodes_up - last_layer_nodes + 1, nodes_up + 1):\n",
    "                    g.edge(str(h), str(n))\n",
    "            c.attr(label=\"Output Layer\", labelloc=\"bottom\")\n",
    "            c.node_attr.update(\n",
    "                color=\"#2ecc71\", style=\"filled\", fontcolor=\"#2ecc71\", shape=\"circle\"\n",
    "            )\n",
    "\n",
    "    g.attr(arrowShape=\"none\")\n",
    "    g.edge_attr.update(arrowhead=\"none\", color=\"#707070\", penwidth=\"2\")\n",
    "    if view is True:\n",
    "        g.view()\n",
    "\n",
    "    return g"
   ]
  },
  {
   "cell_type": "markdown",
   "id": "moving-teach",
   "metadata": {},
   "source": [
    "# Data preprocessing"
   ]
  },
  {
   "cell_type": "code",
   "execution_count": 3,
   "id": "mature-harvest",
   "metadata": {},
   "outputs": [
    {
     "name": "stdout",
     "output_type": "stream",
     "text": [
      "         Date Location  MinTemp  MaxTemp  Rainfall  ...  Cloud3pm  Temp9am Temp3pm  RainToday RainTomorrow\n",
      "0  2008-12-01   Albury     13.4     22.9       0.6  ...       NaN     16.9    21.8         No           No\n",
      "1  2008-12-02   Albury      7.4     25.1       0.0  ...       NaN     17.2    24.3         No           No\n",
      "2  2008-12-03   Albury     12.9     25.7       0.0  ...       2.0     21.0    23.2         No           No\n",
      "3  2008-12-04   Albury      9.2     28.0       0.0  ...       NaN     18.1    26.5         No           No\n",
      "4  2008-12-05   Albury     17.5     32.3       1.0  ...       8.0     17.8    29.7         No           No\n",
      "\n",
      "[5 rows x 23 columns]\n",
      "Index(['Date', 'Location', 'MinTemp', 'MaxTemp', 'Rainfall', 'Evaporation', 'Sunshine', 'WindGustDir', 'WindGustSpeed', 'WindDir9am', 'WindDir3pm', 'WindSpeed9am', 'WindSpeed3pm', 'Humidity9am', 'Humidity3pm', 'Pressure9am', 'Pressure3pm', 'Cloud9am', 'Cloud3pm', 'Temp9am', 'Temp3pm', 'RainToday', 'RainTomorrow'], dtype='object')\n",
      "(145460, 23)\n",
      "Date                 0\n",
      "Location             0\n",
      "MinTemp           1485\n",
      "MaxTemp           1261\n",
      "Rainfall          3261\n",
      "Evaporation      62790\n",
      "Sunshine         69835\n",
      "WindGustDir      10326\n",
      "WindGustSpeed    10263\n",
      "WindDir9am       10566\n",
      "WindDir3pm        4228\n",
      "WindSpeed9am      1767\n",
      "WindSpeed3pm      3062\n",
      "Humidity9am       2654\n",
      "Humidity3pm       4507\n",
      "Pressure9am      15065\n",
      "Pressure3pm      15028\n",
      "Cloud9am         55888\n",
      "Cloud3pm         59358\n",
      "Temp9am           1767\n",
      "Temp3pm           3609\n",
      "RainToday         3261\n",
      "RainTomorrow      3267\n",
      "dtype: int64\n"
     ]
    }
   ],
   "source": [
    "df = pd.read_csv(r'C:\\Users\\fikri\\Desktop\\pyproj\\ANN\\weather\\weatherAUS.csv')\n",
    "print(df.head())\n",
    "print(df.columns)\n",
    "print(df.shape)\n",
    "print(df.isna().sum())\n"
   ]
  },
  {
   "cell_type": "code",
   "execution_count": 4,
   "id": "alien-investor",
   "metadata": {},
   "outputs": [
    {
     "name": "stdout",
     "output_type": "stream",
     "text": [
      "   Rainfall  Humidity3pm  Pressure9am RainToday RainTomorrow\n",
      "0       0.6         22.0       1007.7        No           No\n",
      "1       0.0         25.0       1010.6        No           No\n",
      "2       0.0         30.0       1007.6        No           No\n",
      "3       0.0         16.0       1017.6        No           No\n",
      "4       1.0         33.0       1010.8        No           No\n"
     ]
    }
   ],
   "source": [
    "cols = ['Rainfall', 'Humidity3pm', 'Pressure9am', 'RainToday', 'RainTomorrow']\n",
    "df = df[cols]\n",
    "print(df.head())"
   ]
  },
  {
   "cell_type": "code",
   "execution_count": 5,
   "id": "little-moscow",
   "metadata": {},
   "outputs": [
    {
     "name": "stdout",
     "output_type": "stream",
     "text": [
      "Rainfall        float64\n",
      "Humidity3pm     float64\n",
      "Pressure9am     float64\n",
      "RainToday        object\n",
      "RainTomorrow     object\n",
      "dtype: object\n"
     ]
    }
   ],
   "source": [
    "df['RainToday'].replace(['No','no','yes','Yes'],['0','0','1','1'],inplace =True)\n",
    "df['RainTomorrow'].replace(['No','no','yes','Yes'],['0','0','1','1'],inplace =True)\n",
    "print(df.head().dtypes)"
   ]
  },
  {
   "cell_type": "code",
   "execution_count": 6,
   "id": "residential-lunch",
   "metadata": {},
   "outputs": [],
   "source": [
    "df = df.dropna(how='any')"
   ]
  },
  {
   "cell_type": "code",
   "execution_count": 7,
   "id": "geographic-platform",
   "metadata": {},
   "outputs": [
    {
     "data": {
      "text/plain": [
       "0         0\n",
       "1         0\n",
       "2         0\n",
       "3         0\n",
       "4         0\n",
       "         ..\n",
       "145454    0\n",
       "145455    0\n",
       "145456    0\n",
       "145457    0\n",
       "145458    0\n",
       "Name: RainTomorrow, Length: 124689, dtype: int32"
      ]
     },
     "execution_count": 7,
     "metadata": {},
     "output_type": "execute_result"
    }
   ],
   "source": [
    "df['RainToday'].astype('int32')\n",
    "df['RainTomorrow'].astype('int32')"
   ]
  },
  {
   "cell_type": "code",
   "execution_count": 8,
   "id": "peripheral-juvenile",
   "metadata": {},
   "outputs": [
    {
     "data": {
      "text/plain": [
       "0    0.778762\n",
       "1    0.221238\n",
       "Name: RainTomorrow, dtype: float64"
      ]
     },
     "execution_count": 8,
     "metadata": {},
     "output_type": "execute_result"
    },
    {
     "data": {
      "image/png": "[encoded data removed]",
      "text/plain": [
       "<Figure size 432x288 with 1 Axes>"
      ]
     },
     "metadata": {
      "image/png": {
       "height": 271,
       "width": 420
      }
     },
     "output_type": "display_data"
    }
   ],
   "source": [
    "sns.countplot(x='RainTomorrow', data=df)\n",
    "df.RainTomorrow.value_counts() / df.shape[0]"
   ]
  },
  {
   "cell_type": "code",
   "execution_count": null,
   "id": "confident-dealer",
   "metadata": {},
   "outputs": [],
   "source": []
  },
  {
   "cell_type": "code",
   "execution_count": 9,
   "id": "local-proportion",
   "metadata": {},
   "outputs": [],
   "source": [
    "X = df[['Rainfall', 'Humidity3pm', 'RainToday', 'Pressure9am']].astype('int32')\n",
    "y = df[['RainTomorrow']].astype('int32')\n",
    "\n",
    "X_train, X_test, y_train, y_test = train_test_split(X, y, test_size=0.2, random_state=RANDOM_SEED)"
   ]
  },
  {
   "cell_type": "code",
   "execution_count": 10,
   "id": "numerical-hebrew",
   "metadata": {},
   "outputs": [
    {
     "name": "stdout",
     "output_type": "stream",
     "text": [
      "torch.Size([99751, 4]) torch.Size([99751])\n",
      "torch.Size([24938, 4]) torch.Size([24938])\n"
     ]
    }
   ],
   "source": [
    "X_train = torch.from_numpy(X_train.to_numpy()).float()\n",
    "y_train = torch.squeeze(torch.from_numpy(y_train.to_numpy()).float())\n",
    "\n",
    "X_test = torch.from_numpy(X_test.to_numpy()).float()\n",
    "y_test = torch.squeeze(torch.from_numpy(y_test.to_numpy()).float())\n",
    "\n",
    "print( X_train.shape, y_train.shape)\n",
    "print( X_test.shape, y_test.shape)\n"
   ]
  },
  {
   "cell_type": "markdown",
   "id": "specified-responsibility",
   "metadata": {},
   "source": [
    "# create model"
   ]
  },
  {
   "cell_type": "code",
   "execution_count": 11,
   "id": "peaceful-trial",
   "metadata": {},
   "outputs": [],
   "source": [
    "\n",
    "class Net(nn.Module):\n",
    "\n",
    "  def __init__(self, n_features):\n",
    "    super(Net, self).__init__()\n",
    "    self.fc1 = nn.Linear(n_features, 5)\n",
    "    self.fc2 = nn.Linear(5, 3)\n",
    "    self.fc3 = nn.Linear(3, 1)\n",
    "\n",
    "  def forward(self, x):\n",
    "    x = F.relu(self.fc1(x))\n",
    "    x = F.relu(self.fc2(x))\n",
    "    return torch.sigmoid(self.fc3(x))"
   ]
  },
  {
   "cell_type": "code",
   "execution_count": 12,
   "id": "allied-current",
   "metadata": {},
   "outputs": [],
   "source": [
    "net = Net(X_train.shape[1])"
   ]
  },
  {
   "cell_type": "code",
   "execution_count": 13,
   "id": "still-model",
   "metadata": {},
   "outputs": [
    {
     "data": {
      "image/svg+xml": [
       "<?xml version=\"1.0\" encoding=\"UTF-8\" standalone=\"no\"?>\r\n",
       "<!DOCTYPE svg PUBLIC \"-//W3C//DTD SVG 1.1//EN\"\r\n",
       " \"http://www.w3.org/Graphics/SVG/1.1/DTD/svg11.dtd\">\r\n",
       "<!-- Generated by graphviz version 2.46.0 (20210118.1747)\r\n",
       " -->\r\n",
       "<!-- Title: g Pages: 1 -->\r\n",
       "<svg width=\"410pt\" height=\"443pt\"\r\n",
       " viewBox=\"0.00 0.00 410.00 443.00\" xmlns=\"http://www.w3.org/2000/svg\" xmlns:xlink=\"http://www.w3.org/1999/xlink\">\r\n",
       "<g id=\"graph0\" class=\"graph\" transform=\"scale(1 1) rotate(0) translate(4 439)\">\r\n",
       "<title>g</title>\r\n",
       "<polygon fill=\"white\" stroke=\"transparent\" points=\"-4,4 -4,-439 406,-439 406,4 -4,4\"/>\r\n",
       "<g id=\"clust3\" class=\"cluster\">\r\n",
       "<title>cluster_2</title>\r\n",
       "<polygon fill=\"none\" stroke=\"white\" points=\"200,-91 200,-344 303,-344 303,-91 200,-91\"/>\r\n",
       "<text text-anchor=\"middle\" x=\"251.5\" y=\"-98.8\" font-family=\"Times New Roman,serif\" font-size=\"14.00\">Hidden Layer 2</text>\r\n",
       "</g>\r\n",
       "<g id=\"clust4\" class=\"cluster\">\r\n",
       "<title>cluster_output</title>\r\n",
       "<polygon fill=\"none\" stroke=\"white\" points=\"311,-174 311,-261 402,-261 402,-174 311,-174\"/>\r\n",
       "<text text-anchor=\"middle\" x=\"356.5\" y=\"-181.8\" font-family=\"Times New Roman,serif\" font-size=\"14.00\">Output Layer</text>\r\n",
       "</g>\r\n",
       "<g id=\"clust2\" class=\"cluster\">\r\n",
       "<title>cluster_1</title>\r\n",
       "<polygon fill=\"none\" stroke=\"white\" points=\"89,-8 89,-427 192,-427 192,-8 89,-8\"/>\r\n",
       "<text text-anchor=\"middle\" x=\"140.5\" y=\"-15.8\" font-family=\"Times New Roman,serif\" font-size=\"14.00\">Hidden Layer 1</text>\r\n",
       "</g>\r\n",
       "<g id=\"clust1\" class=\"cluster\">\r\n",
       "<title>cluster_input</title>\r\n",
       "<polygon fill=\"none\" stroke=\"white\" points=\"0,-49 0,-385 81,-385 81,-49 0,-49\"/>\r\n",
       "<text text-anchor=\"middle\" x=\"40.5\" y=\"-56.8\" font-family=\"Times New Roman,serif\" font-size=\"14.00\">Input Layer</text>\r\n",
       "</g>\r\n",
       "<!-- 1 -->\r\n",
       "<g id=\"node1\" class=\"node\">\r\n",
       "<title>1</title>\r\n",
       "<ellipse fill=\"#ff006d\" stroke=\"#ff006d\" cx=\"40.5\" cy=\"-353\" rx=\"23.5\" ry=\"23.5\"/>\r\n",
       "<text text-anchor=\"middle\" x=\"40.5\" y=\"-349.3\" font-family=\"Times New Roman,serif\" font-size=\"14.00\" fill=\"#ff006d\">1</text>\r\n",
       "</g>\r\n",
       "<!-- 5 -->\r\n",
       "<g id=\"node5\" class=\"node\">\r\n",
       "<title>5</title>\r\n",
       "<ellipse fill=\"#01befe\" stroke=\"#01befe\" cx=\"140.5\" cy=\"-63\" rx=\"23.5\" ry=\"23.5\"/>\r\n",
       "<text text-anchor=\"middle\" x=\"140.5\" y=\"-59.3\" font-family=\"Times New Roman,serif\" font-size=\"14.00\" fill=\"#01befe\">5</text>\r\n",
       "</g>\r\n",
       "<!-- 1&#45;&gt;5 -->\r\n",
       "<g id=\"edge1\" class=\"edge\">\r\n",
       "<title>1&#45;&gt;5</title>\r\n",
       "<path fill=\"none\" stroke=\"#707070\" stroke-width=\"2\" d=\"M49.03,-330.73C67.31,-276.61 113.91,-138.73 132.08,-84.95\"/>\r\n",
       "</g>\r\n",
       "<!-- 6 -->\r\n",
       "<g id=\"node6\" class=\"node\">\r\n",
       "<title>6</title>\r\n",
       "<ellipse fill=\"#01befe\" stroke=\"#01befe\" cx=\"140.5\" cy=\"-395\" rx=\"23.5\" ry=\"23.5\"/>\r\n",
       "<text text-anchor=\"middle\" x=\"140.5\" y=\"-391.3\" font-family=\"Times New Roman,serif\" font-size=\"14.00\" fill=\"#01befe\">6</text>\r\n",
       "</g>\r\n",
       "<!-- 1&#45;&gt;6 -->\r\n",
       "<g id=\"edge5\" class=\"edge\">\r\n",
       "<title>1&#45;&gt;6</title>\r\n",
       "<path fill=\"none\" stroke=\"#707070\" stroke-width=\"2\" d=\"M62.28,-361.91C78.91,-369.03 102.12,-378.98 118.75,-386.11\"/>\r\n",
       "</g>\r\n",
       "<!-- 7 -->\r\n",
       "<g id=\"node7\" class=\"node\">\r\n",
       "<title>7</title>\r\n",
       "<ellipse fill=\"#01befe\" stroke=\"#01befe\" cx=\"140.5\" cy=\"-312\" rx=\"23.5\" ry=\"23.5\"/>\r\n",
       "<text text-anchor=\"middle\" x=\"140.5\" y=\"-308.3\" font-family=\"Times New Roman,serif\" font-size=\"14.00\" fill=\"#01befe\">7</text>\r\n",
       "</g>\r\n",
       "<!-- 1&#45;&gt;7 -->\r\n",
       "<g id=\"edge9\" class=\"edge\">\r\n",
       "<title>1&#45;&gt;7</title>\r\n",
       "<path fill=\"none\" stroke=\"#707070\" stroke-width=\"2\" d=\"M62.76,-344.1C79.32,-337.18 102.16,-327.62 118.61,-320.74\"/>\r\n",
       "</g>\r\n",
       "<!-- 8 -->\r\n",
       "<g id=\"node8\" class=\"node\">\r\n",
       "<title>8</title>\r\n",
       "<ellipse fill=\"#01befe\" stroke=\"#01befe\" cx=\"140.5\" cy=\"-229\" rx=\"23.5\" ry=\"23.5\"/>\r\n",
       "<text text-anchor=\"middle\" x=\"140.5\" y=\"-225.3\" font-family=\"Times New Roman,serif\" font-size=\"14.00\" fill=\"#01befe\">8</text>\r\n",
       "</g>\r\n",
       "<!-- 1&#45;&gt;8 -->\r\n",
       "<g id=\"edge13\" class=\"edge\">\r\n",
       "<title>1&#45;&gt;8</title>\r\n",
       "<path fill=\"none\" stroke=\"#707070\" stroke-width=\"2\" d=\"M55.75,-334.97C74.33,-311.46 106.64,-270.57 125.23,-247.05\"/>\r\n",
       "</g>\r\n",
       "<!-- 9 -->\r\n",
       "<g id=\"node9\" class=\"node\">\r\n",
       "<title>9</title>\r\n",
       "<ellipse fill=\"#01befe\" stroke=\"#01befe\" cx=\"140.5\" cy=\"-146\" rx=\"23.5\" ry=\"23.5\"/>\r\n",
       "<text text-anchor=\"middle\" x=\"140.5\" y=\"-142.3\" font-family=\"Times New Roman,serif\" font-size=\"14.00\" fill=\"#01befe\">9</text>\r\n",
       "</g>\r\n",
       "<!-- 1&#45;&gt;9 -->\r\n",
       "<g id=\"edge17\" class=\"edge\">\r\n",
       "<title>1&#45;&gt;9</title>\r\n",
       "<path fill=\"none\" stroke=\"#707070\" stroke-width=\"2\" d=\"M51.44,-332.01C70.22,-292.34 110.73,-206.76 129.54,-167.04\"/>\r\n",
       "</g>\r\n",
       "<!-- 2 -->\r\n",
       "<g id=\"node2\" class=\"node\">\r\n",
       "<title>2</title>\r\n",
       "<ellipse fill=\"#ff006d\" stroke=\"#ff006d\" cx=\"40.5\" cy=\"-270\" rx=\"23.5\" ry=\"23.5\"/>\r\n",
       "<text text-anchor=\"middle\" x=\"40.5\" y=\"-266.3\" font-family=\"Times New Roman,serif\" font-size=\"14.00\" fill=\"#ff006d\">2</text>\r\n",
       "</g>\r\n",
       "<!-- 2&#45;&gt;5 -->\r\n",
       "<g id=\"edge2\" class=\"edge\">\r\n",
       "<title>2&#45;&gt;5</title>\r\n",
       "<path fill=\"none\" stroke=\"#707070\" stroke-width=\"2\" d=\"M51.44,-249.01C70.22,-209.34 110.73,-123.76 129.54,-84.04\"/>\r\n",
       "</g>\r\n",
       "<!-- 2&#45;&gt;6 -->\r\n",
       "<g id=\"edge6\" class=\"edge\">\r\n",
       "<title>2&#45;&gt;6</title>\r\n",
       "<path fill=\"none\" stroke=\"#707070\" stroke-width=\"2\" d=\"M55.75,-288.18C74.33,-311.88 106.64,-353.09 125.23,-376.8\"/>\r\n",
       "</g>\r\n",
       "<!-- 2&#45;&gt;7 -->\r\n",
       "<g id=\"edge10\" class=\"edge\">\r\n",
       "<title>2&#45;&gt;7</title>\r\n",
       "<path fill=\"none\" stroke=\"#707070\" stroke-width=\"2\" d=\"M62.28,-278.91C78.91,-286.03 102.12,-295.98 118.75,-303.11\"/>\r\n",
       "</g>\r\n",
       "<!-- 2&#45;&gt;8 -->\r\n",
       "<g id=\"edge14\" class=\"edge\">\r\n",
       "<title>2&#45;&gt;8</title>\r\n",
       "<path fill=\"none\" stroke=\"#707070\" stroke-width=\"2\" d=\"M62.76,-261.1C79.32,-254.18 102.16,-244.62 118.61,-237.74\"/>\r\n",
       "</g>\r\n",
       "<!-- 2&#45;&gt;9 -->\r\n",
       "<g id=\"edge18\" class=\"edge\">\r\n",
       "<title>2&#45;&gt;9</title>\r\n",
       "<path fill=\"none\" stroke=\"#707070\" stroke-width=\"2\" d=\"M55.75,-251.97C74.33,-228.46 106.64,-187.57 125.23,-164.05\"/>\r\n",
       "</g>\r\n",
       "<!-- 3 -->\r\n",
       "<g id=\"node3\" class=\"node\">\r\n",
       "<title>3</title>\r\n",
       "<ellipse fill=\"#ff006d\" stroke=\"#ff006d\" cx=\"40.5\" cy=\"-187\" rx=\"23.5\" ry=\"23.5\"/>\r\n",
       "<text text-anchor=\"middle\" x=\"40.5\" y=\"-183.3\" font-family=\"Times New Roman,serif\" font-size=\"14.00\" fill=\"#ff006d\">3</text>\r\n",
       "</g>\r\n",
       "<!-- 3&#45;&gt;5 -->\r\n",
       "<g id=\"edge3\" class=\"edge\">\r\n",
       "<title>3&#45;&gt;5</title>\r\n",
       "<path fill=\"none\" stroke=\"#707070\" stroke-width=\"2\" d=\"M55.75,-168.97C74.33,-145.46 106.64,-104.57 125.23,-81.05\"/>\r\n",
       "</g>\r\n",
       "<!-- 3&#45;&gt;6 -->\r\n",
       "<g id=\"edge7\" class=\"edge\">\r\n",
       "<title>3&#45;&gt;6</title>\r\n",
       "<path fill=\"none\" stroke=\"#707070\" stroke-width=\"2\" d=\"M51.44,-208.09C70.22,-247.96 110.73,-333.95 129.54,-373.86\"/>\r\n",
       "</g>\r\n",
       "<!-- 3&#45;&gt;7 -->\r\n",
       "<g id=\"edge11\" class=\"edge\">\r\n",
       "<title>3&#45;&gt;7</title>\r\n",
       "<path fill=\"none\" stroke=\"#707070\" stroke-width=\"2\" d=\"M55.75,-205.18C74.33,-228.88 106.64,-270.09 125.23,-293.8\"/>\r\n",
       "</g>\r\n",
       "<!-- 3&#45;&gt;8 -->\r\n",
       "<g id=\"edge15\" class=\"edge\">\r\n",
       "<title>3&#45;&gt;8</title>\r\n",
       "<path fill=\"none\" stroke=\"#707070\" stroke-width=\"2\" d=\"M62.28,-195.91C78.91,-203.03 102.12,-212.98 118.75,-220.11\"/>\r\n",
       "</g>\r\n",
       "<!-- 3&#45;&gt;9 -->\r\n",
       "<g id=\"edge19\" class=\"edge\">\r\n",
       "<title>3&#45;&gt;9</title>\r\n",
       "<path fill=\"none\" stroke=\"#707070\" stroke-width=\"2\" d=\"M62.76,-178.1C79.32,-171.18 102.16,-161.62 118.61,-154.74\"/>\r\n",
       "</g>\r\n",
       "<!-- 4 -->\r\n",
       "<g id=\"node4\" class=\"node\">\r\n",
       "<title>4</title>\r\n",
       "<ellipse fill=\"#ff006d\" stroke=\"#ff006d\" cx=\"40.5\" cy=\"-104\" rx=\"23.5\" ry=\"23.5\"/>\r\n",
       "<text text-anchor=\"middle\" x=\"40.5\" y=\"-100.3\" font-family=\"Times New Roman,serif\" font-size=\"14.00\" fill=\"#ff006d\">4</text>\r\n",
       "</g>\r\n",
       "<!-- 4&#45;&gt;5 -->\r\n",
       "<g id=\"edge4\" class=\"edge\">\r\n",
       "<title>4&#45;&gt;5</title>\r\n",
       "<path fill=\"none\" stroke=\"#707070\" stroke-width=\"2\" d=\"M62.76,-95.1C79.32,-88.18 102.16,-78.62 118.61,-71.74\"/>\r\n",
       "</g>\r\n",
       "<!-- 4&#45;&gt;6 -->\r\n",
       "<g id=\"edge8\" class=\"edge\">\r\n",
       "<title>4&#45;&gt;6</title>\r\n",
       "<path fill=\"none\" stroke=\"#707070\" stroke-width=\"2\" d=\"M49.03,-126.35C67.31,-180.65 113.91,-319.01 132.08,-372.97\"/>\r\n",
       "</g>\r\n",
       "<!-- 4&#45;&gt;7 -->\r\n",
       "<g id=\"edge12\" class=\"edge\">\r\n",
       "<title>4&#45;&gt;7</title>\r\n",
       "<path fill=\"none\" stroke=\"#707070\" stroke-width=\"2\" d=\"M51.44,-125.09C70.22,-164.96 110.73,-250.95 129.54,-290.86\"/>\r\n",
       "</g>\r\n",
       "<!-- 4&#45;&gt;8 -->\r\n",
       "<g id=\"edge16\" class=\"edge\">\r\n",
       "<title>4&#45;&gt;8</title>\r\n",
       "<path fill=\"none\" stroke=\"#707070\" stroke-width=\"2\" d=\"M55.75,-122.18C74.33,-145.88 106.64,-187.09 125.23,-210.8\"/>\r\n",
       "</g>\r\n",
       "<!-- 4&#45;&gt;9 -->\r\n",
       "<g id=\"edge20\" class=\"edge\">\r\n",
       "<title>4&#45;&gt;9</title>\r\n",
       "<path fill=\"none\" stroke=\"#707070\" stroke-width=\"2\" d=\"M62.28,-112.91C78.91,-120.03 102.12,-129.98 118.75,-137.11\"/>\r\n",
       "</g>\r\n",
       "<!-- 10 -->\r\n",
       "<g id=\"node10\" class=\"node\">\r\n",
       "<title>10</title>\r\n",
       "<ellipse fill=\"#01befe\" stroke=\"#01befe\" cx=\"251.5\" cy=\"-229\" rx=\"23.5\" ry=\"23.5\"/>\r\n",
       "<text text-anchor=\"middle\" x=\"251.5\" y=\"-225.3\" font-family=\"Times New Roman,serif\" font-size=\"14.00\" fill=\"#01befe\">10</text>\r\n",
       "</g>\r\n",
       "<!-- 5&#45;&gt;10 -->\r\n",
       "<g id=\"edge21\" class=\"edge\">\r\n",
       "<title>5&#45;&gt;10</title>\r\n",
       "<path fill=\"none\" stroke=\"#707070\" stroke-width=\"2\" d=\"M154.22,-82.37C175.22,-114.35 216.91,-177.85 237.86,-209.76\"/>\r\n",
       "</g>\r\n",
       "<!-- 11 -->\r\n",
       "<g id=\"node11\" class=\"node\">\r\n",
       "<title>11</title>\r\n",
       "<ellipse fill=\"#01befe\" stroke=\"#01befe\" cx=\"251.5\" cy=\"-146\" rx=\"23.5\" ry=\"23.5\"/>\r\n",
       "<text text-anchor=\"middle\" x=\"251.5\" y=\"-142.3\" font-family=\"Times New Roman,serif\" font-size=\"14.00\" fill=\"#01befe\">11</text>\r\n",
       "</g>\r\n",
       "<!-- 5&#45;&gt;11 -->\r\n",
       "<g id=\"edge26\" class=\"edge\">\r\n",
       "<title>5&#45;&gt;11</title>\r\n",
       "<path fill=\"none\" stroke=\"#707070\" stroke-width=\"2\" d=\"M159.99,-77.08C180.16,-92.43 212.23,-116.86 232.28,-132.13\"/>\r\n",
       "</g>\r\n",
       "<!-- 12 -->\r\n",
       "<g id=\"node12\" class=\"node\">\r\n",
       "<title>12</title>\r\n",
       "<ellipse fill=\"#01befe\" stroke=\"#01befe\" cx=\"251.5\" cy=\"-312\" rx=\"23.5\" ry=\"23.5\"/>\r\n",
       "<text text-anchor=\"middle\" x=\"251.5\" y=\"-308.3\" font-family=\"Times New Roman,serif\" font-size=\"14.00\" fill=\"#01befe\">12</text>\r\n",
       "</g>\r\n",
       "<!-- 5&#45;&gt;12 -->\r\n",
       "<g id=\"edge31\" class=\"edge\">\r\n",
       "<title>5&#45;&gt;12</title>\r\n",
       "<path fill=\"none\" stroke=\"#707070\" stroke-width=\"2\" d=\"M150.79,-84.23C171.39,-131.27 220.66,-243.83 241.23,-290.82\"/>\r\n",
       "</g>\r\n",
       "<!-- 6&#45;&gt;10 -->\r\n",
       "<g id=\"edge22\" class=\"edge\">\r\n",
       "<title>6&#45;&gt;10</title>\r\n",
       "<path fill=\"none\" stroke=\"#707070\" stroke-width=\"2\" d=\"M154.22,-375.63C175.22,-343.65 216.91,-280.15 237.86,-248.24\"/>\r\n",
       "</g>\r\n",
       "<!-- 6&#45;&gt;11 -->\r\n",
       "<g id=\"edge27\" class=\"edge\">\r\n",
       "<title>6&#45;&gt;11</title>\r\n",
       "<path fill=\"none\" stroke=\"#707070\" stroke-width=\"2\" d=\"M150.79,-373.77C171.39,-326.73 220.66,-214.17 241.23,-167.18\"/>\r\n",
       "</g>\r\n",
       "<!-- 6&#45;&gt;12 -->\r\n",
       "<g id=\"edge32\" class=\"edge\">\r\n",
       "<title>6&#45;&gt;12</title>\r\n",
       "<path fill=\"none\" stroke=\"#707070\" stroke-width=\"2\" d=\"M159.99,-380.92C180.16,-365.57 212.23,-341.14 232.28,-325.87\"/>\r\n",
       "</g>\r\n",
       "<!-- 7&#45;&gt;10 -->\r\n",
       "<g id=\"edge23\" class=\"edge\">\r\n",
       "<title>7&#45;&gt;10</title>\r\n",
       "<path fill=\"none\" stroke=\"#707070\" stroke-width=\"2\" d=\"M159.99,-297.92C180.16,-282.57 212.23,-258.14 232.28,-242.87\"/>\r\n",
       "</g>\r\n",
       "<!-- 7&#45;&gt;11 -->\r\n",
       "<g id=\"edge28\" class=\"edge\">\r\n",
       "<title>7&#45;&gt;11</title>\r\n",
       "<path fill=\"none\" stroke=\"#707070\" stroke-width=\"2\" d=\"M154.22,-292.63C175.22,-260.65 216.91,-197.15 237.86,-165.24\"/>\r\n",
       "</g>\r\n",
       "<!-- 7&#45;&gt;12 -->\r\n",
       "<g id=\"edge33\" class=\"edge\">\r\n",
       "<title>7&#45;&gt;12</title>\r\n",
       "<path fill=\"none\" stroke=\"#707070\" stroke-width=\"2\" d=\"M164.08,-312C182.79,-312 209.24,-312 227.94,-312\"/>\r\n",
       "</g>\r\n",
       "<!-- 8&#45;&gt;10 -->\r\n",
       "<g id=\"edge24\" class=\"edge\">\r\n",
       "<title>8&#45;&gt;10</title>\r\n",
       "<path fill=\"none\" stroke=\"#707070\" stroke-width=\"2\" d=\"M164.08,-229C182.79,-229 209.24,-229 227.94,-229\"/>\r\n",
       "</g>\r\n",
       "<!-- 8&#45;&gt;11 -->\r\n",
       "<g id=\"edge29\" class=\"edge\">\r\n",
       "<title>8&#45;&gt;11</title>\r\n",
       "<path fill=\"none\" stroke=\"#707070\" stroke-width=\"2\" d=\"M159.99,-214.92C180.16,-199.57 212.23,-175.14 232.28,-159.87\"/>\r\n",
       "</g>\r\n",
       "<!-- 8&#45;&gt;12 -->\r\n",
       "<g id=\"edge34\" class=\"edge\">\r\n",
       "<title>8&#45;&gt;12</title>\r\n",
       "<path fill=\"none\" stroke=\"#707070\" stroke-width=\"2\" d=\"M159.99,-243.08C180.16,-258.43 212.23,-282.86 232.28,-298.13\"/>\r\n",
       "</g>\r\n",
       "<!-- 9&#45;&gt;10 -->\r\n",
       "<g id=\"edge25\" class=\"edge\">\r\n",
       "<title>9&#45;&gt;10</title>\r\n",
       "<path fill=\"none\" stroke=\"#707070\" stroke-width=\"2\" d=\"M159.99,-160.08C180.16,-175.43 212.23,-199.86 232.28,-215.13\"/>\r\n",
       "</g>\r\n",
       "<!-- 9&#45;&gt;11 -->\r\n",
       "<g id=\"edge30\" class=\"edge\">\r\n",
       "<title>9&#45;&gt;11</title>\r\n",
       "<path fill=\"none\" stroke=\"#707070\" stroke-width=\"2\" d=\"M164.08,-146C182.79,-146 209.24,-146 227.94,-146\"/>\r\n",
       "</g>\r\n",
       "<!-- 9&#45;&gt;12 -->\r\n",
       "<g id=\"edge35\" class=\"edge\">\r\n",
       "<title>9&#45;&gt;12</title>\r\n",
       "<path fill=\"none\" stroke=\"#707070\" stroke-width=\"2\" d=\"M154.22,-165.37C175.22,-197.35 216.91,-260.85 237.86,-292.76\"/>\r\n",
       "</g>\r\n",
       "<!-- 13 -->\r\n",
       "<g id=\"node13\" class=\"node\">\r\n",
       "<title>13</title>\r\n",
       "<ellipse fill=\"#93d30c\" stroke=\"#93d30c\" cx=\"356.5\" cy=\"-229\" rx=\"23.5\" ry=\"23.5\"/>\r\n",
       "<text text-anchor=\"middle\" x=\"356.5\" y=\"-225.3\" font-family=\"Times New Roman,serif\" font-size=\"14.00\" fill=\"#93d30c\">13</text>\r\n",
       "</g>\r\n",
       "<!-- 10&#45;&gt;13 -->\r\n",
       "<g id=\"edge36\" class=\"edge\">\r\n",
       "<title>10&#45;&gt;13</title>\r\n",
       "<path fill=\"none\" stroke=\"#707070\" stroke-width=\"2\" d=\"M275.1,-229C292.28,-229 315.79,-229 332.95,-229\"/>\r\n",
       "</g>\r\n",
       "<!-- 11&#45;&gt;13 -->\r\n",
       "<g id=\"edge37\" class=\"edge\">\r\n",
       "<title>11&#45;&gt;13</title>\r\n",
       "<path fill=\"none\" stroke=\"#707070\" stroke-width=\"2\" d=\"M270.44,-160.46C289.35,-175.69 318.94,-199.54 337.76,-214.71\"/>\r\n",
       "</g>\r\n",
       "<!-- 12&#45;&gt;13 -->\r\n",
       "<g id=\"edge38\" class=\"edge\">\r\n",
       "<title>12&#45;&gt;13</title>\r\n",
       "<path fill=\"none\" stroke=\"#707070\" stroke-width=\"2\" d=\"M270.44,-297.54C289.35,-282.31 318.94,-258.46 337.76,-243.29\"/>\r\n",
       "</g>\r\n",
       "</g>\r\n",
       "</svg>\r\n"
      ],
      "text/plain": [
       "<graphviz.dot.Digraph at 0x2b54b3ca1d0>"
      ]
     },
     "execution_count": 13,
     "metadata": {},
     "output_type": "execute_result"
    }
   ],
   "source": [
    "ann_viz(net, view=False)"
   ]
  },
  {
   "cell_type": "markdown",
   "id": "finite-feature",
   "metadata": {},
   "source": [
    "# Training"
   ]
  },
  {
   "cell_type": "code",
   "execution_count": 14,
   "id": "interested-antique",
   "metadata": {},
   "outputs": [],
   "source": [
    "criterion = nn.BCELoss()"
   ]
  },
  {
   "cell_type": "code",
   "execution_count": 15,
   "id": "correct-diagnosis",
   "metadata": {},
   "outputs": [],
   "source": [
    "optimizer = optim.Adam(net.parameters(), lr=0.001)"
   ]
  },
  {
   "cell_type": "code",
   "execution_count": 16,
   "id": "excited-right",
   "metadata": {},
   "outputs": [],
   "source": [
    "device = torch.device(\"cuda:0\" if torch.cuda.is_available() else \"cpu\")"
   ]
  },
  {
   "cell_type": "code",
   "execution_count": 17,
   "id": "acknowledged-oxford",
   "metadata": {},
   "outputs": [
    {
     "name": "stdout",
     "output_type": "stream",
     "text": [
      "Thu Feb 18 20:56:50 2021       \n",
      "+-----------------------------------------------------------------------------+\n",
      "| NVIDIA-SMI 431.84       Driver Version: 431.84       CUDA Version: 10.1     |\n",
      "|-------------------------------+----------------------+----------------------+\n",
      "| GPU  Name            TCC/WDDM | Bus-Id        Disp.A | Volatile Uncorr. ECC |\n",
      "| Fan  Temp  Perf  Pwr:Usage/Cap|         Memory-Usage | GPU-Util  Compute M. |\n",
      "|===============================+======================+======================|\n",
      "|   0  GeForce GTX 105... WDDM  | 00000000:01:00.0 Off |                  N/A |\n",
      "| N/A   40C    P8    N/A /  N/A |     75MiB /  4096MiB |      0%      Default |\n",
      "+-------------------------------+----------------------+----------------------+\n",
      "                                                                               \n",
      "+-----------------------------------------------------------------------------+\n",
      "| Processes:                                                       GPU Memory |\n",
      "|  GPU       PID   Type   Process name                             Usage      |\n",
      "|=============================================================================|\n",
      "|  No running processes found                                                 |\n",
      "+-----------------------------------------------------------------------------+\n"
     ]
    }
   ],
   "source": [
    "!nvidia-smi"
   ]
  },
  {
   "cell_type": "code",
   "execution_count": 18,
   "id": "historic-falls",
   "metadata": {},
   "outputs": [],
   "source": [
    "X_train = X_train.to(device)\n",
    "y_train = y_train.to(device)\n",
    "\n",
    "X_test = X_test.to(device)\n",
    "y_test = y_test.to(device)\n",
    "\n",
    "net = net.to(device)\n",
    "criterion = criterion.to(device)"
   ]
  },
  {
   "cell_type": "code",
   "execution_count": 19,
   "id": "breeding-pressure",
   "metadata": {},
   "outputs": [],
   "source": [
    "def round_tensor(t, decimal_places=3):\n",
    "  return round(t.item(), decimal_places)\n",
    "def calculate_accuracy(y_true, y_pred):\n",
    "  predicted = y_pred.ge(.5).view(-1)\n",
    "  return (y_true == predicted).sum().float() / len(y_true)"
   ]
  },
  {
   "cell_type": "code",
   "execution_count": 20,
   "id": "supposed-southwest",
   "metadata": {},
   "outputs": [
    {
     "name": "stdout",
     "output_type": "stream",
     "text": [
      "epoch 0\n",
      "Train set - loss: 2.514, accuracy: 0.779\n",
      "Test  set - loss: 2.518, accuracy: 0.778\n",
      "\n",
      "epoch 100\n",
      "Train set - loss: 0.458, accuracy: 0.792\n",
      "Test  set - loss: 0.459, accuracy: 0.793\n",
      "\n",
      "epoch 200\n",
      "Train set - loss: 0.435, accuracy: 0.8\n",
      "Test  set - loss: 0.436, accuracy: 0.8\n",
      "\n",
      "epoch 300\n",
      "Train set - loss: 0.421, accuracy: 0.813\n",
      "Test  set - loss: 0.421, accuracy: 0.815\n",
      "\n",
      "epoch 400\n",
      "Train set - loss: 0.413, accuracy: 0.826\n",
      "Test  set - loss: 0.413, accuracy: 0.827\n",
      "\n",
      "epoch 500\n",
      "Train set - loss: 0.408, accuracy: 0.831\n",
      "Test  set - loss: 0.408, accuracy: 0.832\n",
      "\n",
      "epoch 600\n",
      "Train set - loss: 0.406, accuracy: 0.833\n",
      "Test  set - loss: 0.406, accuracy: 0.834\n",
      "\n",
      "epoch 700\n",
      "Train set - loss: 0.405, accuracy: 0.834\n",
      "Test  set - loss: 0.405, accuracy: 0.835\n",
      "\n",
      "epoch 800\n",
      "Train set - loss: 0.404, accuracy: 0.834\n",
      "Test  set - loss: 0.404, accuracy: 0.835\n",
      "\n",
      "epoch 900\n",
      "Train set - loss: 0.404, accuracy: 0.834\n",
      "Test  set - loss: 0.404, accuracy: 0.836\n",
      "\n"
     ]
    }
   ],
   "source": [
    "\n",
    "epoch2 = []\n",
    "loss2 = []\n",
    "acc1 = []\n",
    "for epoch in range(1000):\n",
    "    y_pred = net(X_train)\n",
    "    y_pred = torch.squeeze(y_pred)\n",
    "    train_loss = criterion(y_pred,y_train)\n",
    "    train_acc = calculate_accuracy(y_train, y_pred)\n",
    "    epoch2.append(epoch)\n",
    "    loss2.append(train_loss.item())\n",
    "    acc1.append(train_acc.item())\n",
    "    if epoch % 100 == 0:\n",
    "      train_acc = calculate_accuracy(y_train, y_pred)\n",
    "      y_test_pred = net(X_test)\n",
    "      y_test_pred = torch.squeeze(y_test_pred)\n",
    "\n",
    "      test_loss = criterion(y_test_pred, y_test)\n",
    "      test_acc = calculate_accuracy(y_test, y_test_pred)\n",
    "\n",
    "      print(\n",
    "f'''epoch {epoch}\n",
    "Train set - loss: {round_tensor(train_loss)}, accuracy: {round_tensor(train_acc)}\n",
    "Test  set - loss: {round_tensor(test_loss)}, accuracy: {round_tensor(test_acc)}\n",
    "''')\n",
    "    optimizer.zero_grad()\n",
    "    train_loss.backward()\n",
    "    optimizer.step()"
   ]
  },
  {
   "cell_type": "code",
   "execution_count": 21,
   "id": "planned-wagon",
   "metadata": {},
   "outputs": [
    {
     "data": {
      "text/plain": [
       "<AxesSubplot:xlabel='epoch', ylabel='loss'>"
      ]
     },
     "execution_count": 21,
     "metadata": {},
     "output_type": "execute_result"
    },
    {
     "data": {
      "image/png": "[encoded data removed]",
      "text/plain": [
       "<Figure size 432x288 with 1 Axes>"
      ]
     },
     "metadata": {
      "image/png": {
       "height": 271,
       "width": 395
      }
     },
     "output_type": "display_data"
    }
   ],
   "source": [
    "history = pd.DataFrame({'epoch' : epoch2 , 'loss' : loss2, 'acc' : acc1 })\n",
    "sns.lineplot(x='epoch', y='loss',data=history)\n",
    "\n"
   ]
  },
  {
   "cell_type": "code",
   "execution_count": 22,
   "id": "mineral-success",
   "metadata": {},
   "outputs": [
    {
     "data": {
      "text/plain": [
       "<AxesSubplot:xlabel='epoch', ylabel='acc'>"
      ]
     },
     "execution_count": 22,
     "metadata": {},
     "output_type": "execute_result"
    },
    {
     "data": {
      "image/png": "[encoded data removed]",
      "text/plain": [
       "<Figure size 432x288 with 1 Axes>"
      ]
     },
     "metadata": {
      "image/png": {
       "height": 271,
       "width": 395
      }
     },
     "output_type": "display_data"
    }
   ],
   "source": [
    "sns.lineplot(x='epoch', y='acc',data=history)"
   ]
  },
  {
   "cell_type": "code",
   "execution_count": 23,
   "id": "attended-canon",
   "metadata": {},
   "outputs": [],
   "source": [
    "MODEL_PATH = 'model.pth'\n",
    "\n",
    "torch.save(net, MODEL_PATH)"
   ]
  },
  {
   "cell_type": "code",
   "execution_count": 24,
   "id": "contained-keyboard",
   "metadata": {},
   "outputs": [
    {
     "name": "stdout",
     "output_type": "stream",
     "text": [
      "              precision    recall  f1-score   support\n",
      "\n",
      "     No rain       0.85      0.96      0.90     19413\n",
      "     Raining       0.74      0.40      0.52      5525\n",
      "\n",
      "    accuracy                           0.84     24938\n",
      "   macro avg       0.80      0.68      0.71     24938\n",
      "weighted avg       0.83      0.84      0.82     24938\n",
      "\n"
     ]
    }
   ],
   "source": [
    "classes = ['No rain', 'Raining']\n",
    "y_pred = net(X_test)\n",
    "y_pred = y_pred.ge(.5).view(-1).cpu()\n",
    "y_test = y_test.cpu()\n",
    "print(classification_report(y_test, y_pred, target_names=classes))"
   ]
  },
  {
   "cell_type": "code",
   "execution_count": 25,
   "id": "grave-catalog",
   "metadata": {},
   "outputs": [
    {
     "data": {
      "image/png": "[encoded data removed]",
      "text/plain": [
       "<Figure size 432x288 with 2 Axes>"
      ]
     },
     "metadata": {
      "image/png": {
       "height": 292,
       "width": 428
      }
     },
     "output_type": "display_data"
    }
   ],
   "source": [
    "cm = confusion_matrix(y_test, y_pred)\n",
    "df_cm = pd.DataFrame(cm, index=classes, columns=classes)\n",
    "hmap = sns.heatmap(df_cm, annot=True, fmt=\"d\")\n",
    "hmap.yaxis.set_ticklabels(hmap.yaxis.get_ticklabels(), rotation=0, ha='right')\n",
    "hmap.xaxis.set_ticklabels(hmap.xaxis.get_ticklabels(), rotation=30, ha='right')\n",
    "plt.ylabel('True label')\n",
    "plt.xlabel('Predicted label');"
   ]
  },
  {
   "cell_type": "code",
   "execution_count": 26,
   "id": "aggregate-monroe",
   "metadata": {},
   "outputs": [],
   "source": [
    "def will_it_rain(rainfall, humidity, rain_today, pressure):\n",
    "  t = torch.as_tensor([rainfall, humidity, rain_today, pressure]) \\\n",
    "      .float() \\\n",
    "      .to(device)\n",
    "  output = net(t)\n",
    "  return output.ge(0.5).item()"
   ]
  },
  {
   "cell_type": "code",
   "execution_count": null,
   "id": "accepting-earthquake",
   "metadata": {},
   "outputs": [],
   "source": []
  },
  {
   "cell_type": "code",
   "execution_count": null,
   "id": "innovative-marble",
   "metadata": {},
   "outputs": [],
   "source": []
  }
 ],
 "metadata": {
  "kernelspec": {
   "display_name": "Python 3",
   "language": "python",
   "name": "python3"
  },
  "language_info": {
   "codemirror_mode": {
    "name": "ipython",
    "version": 3
   },
   "file_extension": ".py",
   "mimetype": "text/x-python",
   "name": "python",
   "nbconvert_exporter": "python",
   "pygments_lexer": "ipython3",
   "version": "3.7.2"
  }
 },
 "nbformat": 4,
 "nbformat_minor": 5
}
